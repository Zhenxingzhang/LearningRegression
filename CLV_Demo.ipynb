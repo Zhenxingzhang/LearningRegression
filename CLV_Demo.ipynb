{
 "cells": [
  {
   "cell_type": "code",
   "execution_count": 20,
   "metadata": {},
   "outputs": [],
   "source": [
    "import pandas as pd\n",
    "import numpy as np\n",
    "from math import sqrt\n",
    "import matplotlib.pyplot as plt\n",
    "%matplotlib inline\n",
    "\n",
    "from sklearn.metrics import r2_score\n",
    "from sklearn.metrics import mean_squared_error\n",
    "from sklearn.model_selection import train_test_split\n",
    "from sklearn.ensemble import RandomForestRegressor"
   ]
  },
  {
   "cell_type": "code",
   "execution_count": 2,
   "metadata": {},
   "outputs": [],
   "source": [
    "path = \"~/Downloads/part-00000-8930e765-249c-44ed-b87a-74882688aedb-c000.gz.parquet\""
   ]
  },
  {
   "cell_type": "markdown",
   "metadata": {},
   "source": [
    "# Loading the data and some basic data qulity check"
   ]
  },
  {
   "cell_type": "code",
   "execution_count": 3,
   "metadata": {},
   "outputs": [],
   "source": [
    "data = pd.read_parquet(path, engine='pyarrow')"
   ]
  },
  {
   "cell_type": "code",
   "execution_count": 4,
   "metadata": {},
   "outputs": [
    {
     "data": {
      "text/plain": [
       "True"
      ]
     },
     "execution_count": 4,
     "metadata": {},
     "output_type": "execute_result"
    }
   ],
   "source": [
    "data.shape[0] == len(data['customerHash'].unique())"
   ]
  },
  {
   "cell_type": "markdown",
   "metadata": {},
   "source": []
  },
  {
   "cell_type": "code",
   "execution_count": 5,
   "metadata": {},
   "outputs": [
    {
     "name": "stdout",
     "output_type": "stream",
     "text": [
      "sumPCII1M | avgPCII1M | totalSpendBeforeDiscount1M | totalSpendBeforeCoupon1M | numberOrders1M | numberItems1M | numberReturnedItems1M | avgNumberItems1M | gmvReturnedItems1M | gmvDiscount1M | gmvWithCoupon1M | numberOrdersWithCoupon1M | sumPCII3M | avgPCII3M | totalSpendBeforeDiscount3M | totalSpendBeforeCoupon3M | numberOrders3M | numberItems3M | numberReturnedItems3M | avgNumberItems3M | gmvReturnedItems3M | gmvDiscount3M | gmvWithCoupon3M | numberOrdersWithCoupon3M | sumPCII6M | avgPCII6M | totalSpendBeforeDiscount6M | totalSpendBeforeCoupon6M | numberOrders6M | numberItems6M | numberReturnedItems6M | avgNumberItems6M | gmvReturnedItems6M | gmvDiscount6M | gmvWithCoupon6M | numberOrdersWithCoupon6M | sumPCII12M | avgPCII12M | totalSpendBeforeDiscount12M | totalSpendBeforeCoupon12M | numberOrders12M | numberItems12M | numberReturnedItems12M | avgNumberItems12M | gmvReturnedItems12M | gmvDiscount12M | gmvWithCoupon12M | numberOrdersWithCoupon12M | sumPCIIQ1 | avgPCIIQ1 | totalSpendBeforeDiscountQ1 | totalSpendBeforeCouponQ1 | numberOrdersQ1 | numberItemsQ1 | numberReturnedItemsQ1 | avgNumberItemsQ1 | gmvReturnedItemsQ1 | gmvDiscountQ1 | gmvWithCouponQ1 | numberOrdersWithCouponQ1 | sumPCIIQ2 | avgPCIIQ2 | totalSpendBeforeDiscountQ2 | totalSpendBeforeCouponQ2 | numberOrdersQ2 | numberItemsQ2 | numberReturnedItemsQ2 | avgNumberItemsQ2 | gmvReturnedItemsQ2 | gmvDiscountQ2 | gmvWithCouponQ2 | numberOrdersWithCouponQ2 | sumPCIIQ3 | avgPCIIQ3 | totalSpendBeforeDiscountQ3 | totalSpendBeforeCouponQ3 | numberOrdersQ3 | numberItemsQ3 | numberReturnedItemsQ3 | avgNumberItemsQ3 | gmvReturnedItemsQ3 | gmvDiscountQ3 | gmvWithCouponQ3 | numberOrdersWithCouponQ3 | sumPCIIQ4 | avgPCIIQ4 | totalSpendBeforeDiscountQ4 | totalSpendBeforeCouponQ4 | numberOrdersQ4 | numberItemsQ4 | numberReturnedItemsQ4 | avgNumberItemsQ4 | gmvReturnedItemsQ4 | gmvDiscountQ4 | gmvWithCouponQ4 | numberOrdersWithCouponQ4 | sumPCIINext3M | meanDaysBetweenOrders | daysSinceLastOrder | customerHash | gender | registrationCountry | daysSinceRegistration | age\n"
     ]
    }
   ],
   "source": [
    "print(' | '.join(data.columns)) "
   ]
  },
  {
   "cell_type": "markdown",
   "metadata": {},
   "source": [
    "<H3>Check PCII values</H3> How many customer did not buy anything for the last 12 months, however bring Zalando money. (maybe new customers)"
   ]
  },
  {
   "cell_type": "code",
   "execution_count": 6,
   "metadata": {},
   "outputs": [
    {
     "data": {
      "text/plain": [
       "0.14065085493656923"
      ]
     },
     "execution_count": 6,
     "metadata": {},
     "output_type": "execute_result"
    }
   ],
   "source": [
    "data.loc[(data['sumPCIINext3M'] != 0) & (data['numberOrders12M'] == 0)].shape[0] / data.shape[0]"
   ]
  },
  {
   "cell_type": "markdown",
   "metadata": {},
   "source": [
    "How many customer did buy for the last 12 months, however did not spend for the next 3 months."
   ]
  },
  {
   "cell_type": "code",
   "execution_count": 7,
   "metadata": {},
   "outputs": [
    {
     "data": {
      "text/plain": [
       "0.5671735875817508"
      ]
     },
     "execution_count": 7,
     "metadata": {},
     "output_type": "execute_result"
    }
   ],
   "source": [
    "data.loc[(data['sumPCIINext3M'] == 0) & (data['numberOrders12M'] != 0)].shape[0] / data.shape[0]"
   ]
  },
  {
   "cell_type": "markdown",
   "metadata": {},
   "source": [
    "How many customer did buy for the last 12 months, however did not spend for the next 3 months."
   ]
  },
  {
   "cell_type": "code",
   "execution_count": 8,
   "metadata": {},
   "outputs": [
    {
     "data": {
      "text/plain": [
       "0.29217555748167995"
      ]
     },
     "execution_count": 8,
     "metadata": {},
     "output_type": "execute_result"
    }
   ],
   "source": [
    "data.loc[(data['sumPCIINext3M'] != 0) & (data['numberOrders12M'] != 0)].shape[0] / data.shape[0]"
   ]
  },
  {
   "cell_type": "markdown",
   "metadata": {},
   "source": [
    "# Filter and split the data"
   ]
  },
  {
   "cell_type": "code",
   "execution_count": 9,
   "metadata": {},
   "outputs": [],
   "source": [
    "filter_data = data.loc[(data['sumPCIINext3M'] != 0) & (data['numberOrders12M'] != 0)]"
   ]
  },
  {
   "cell_type": "code",
   "execution_count": 10,
   "metadata": {},
   "outputs": [
    {
     "data": {
      "text/plain": [
       "(3708, 104)"
      ]
     },
     "execution_count": 10,
     "metadata": {},
     "output_type": "execute_result"
    }
   ],
   "source": [
    "filter_data.shape"
   ]
  },
  {
   "cell_type": "code",
   "execution_count": 11,
   "metadata": {},
   "outputs": [
    {
     "data": {
      "text/plain": [
       "(0, 104)"
      ]
     },
     "execution_count": 11,
     "metadata": {},
     "output_type": "execute_result"
    }
   ],
   "source": [
    "filter_data.loc[filter_data['sumPCIINext3M'] == 0].shape"
   ]
  },
  {
   "cell_type": "markdown",
   "metadata": {},
   "source": [
    "<h3>Check the PCII distributions</h3>"
   ]
  },
  {
   "cell_type": "code",
   "execution_count": 14,
   "metadata": {},
   "outputs": [
    {
     "name": "stderr",
     "output_type": "stream",
     "text": [
      "/Users/zhenxing/Envs/py3/lib/python3.6/site-packages/matplotlib/axes/_axes.py:6499: MatplotlibDeprecationWarning: \n",
      "The 'normed' kwarg was deprecated in Matplotlib 2.1 and will be removed in 3.1. Use 'density' instead.\n",
      "  alternative=\"'density'\", removal=\"3.1\")\n"
     ]
    },
    {
     "data": {
      "image/png": "[encoded data removed]",
      "text/plain": [
       "<Figure size 432x288 with 1 Axes>"
      ]
     },
     "metadata": {
      "needs_background": "light"
     },
     "output_type": "display_data"
    }
   ],
   "source": [
    "draw_hist(filter_data['sumPCIINext3M'])"
   ]
  },
  {
   "cell_type": "markdown",
   "metadata": {},
   "source": [
    "The label forms a normal distribution, with a mean a bit above 0. We have a very unbalanced dataset."
   ]
  },
  {
   "cell_type": "code",
   "execution_count": 13,
   "metadata": {},
   "outputs": [],
   "source": [
    "def draw_residual_plot(feature, residual):\n",
    "    plt.plot(feature, residual, 'ro')\n",
    "    plt.axis([-200, 300, -200, 200])\n",
    "    plt.xlabel('feature')\n",
    "    plt.ylabel('residual')\n",
    "    plt.show()\n",
    "\n",
    "def draw_residual_hist(residual):\n",
    "    plt.hist(residual, normed=1, bins=100) \n",
    "    plt.axis([-200, 300, 0, 0.03]) \n",
    "    #axis([xmin,xmax,ymin,ymax])\n",
    "    plt.xlabel('Residuals')\n",
    "    plt.ylabel('Probability')\n",
    "    plt.show()\n",
    "    \n",
    "def draw_hist(residual):\n",
    "    plt.hist(residual, normed=1, bins=100) \n",
    "    #plt.axis([-200, 300, 0, 0.03]) \n",
    "    #axis([xmin,xmax,ymin,ymax])\n",
    "    plt.xlabel('Residual values')\n",
    "    plt.ylabel('Probability')\n",
    "    plt.show()\n",
    "\n",
    "def calculate_std_error(residual):\n",
    "    return sum(abs(residual))/len(residual)\n",
    "\n",
    "def rmse(y, preds):\n",
    "    return sqrt(mean_squared_error(y, preds))\n",
    "\n",
    "def performance_evaluation(x_feature, y_true, y_pred):\n",
    "    residual = y_true - y_pred\n",
    "    print(\"Model Performance Evaluation\")\n",
    "    print(\"RMSE:{}. (the lower the better)\".format(rmse(y_true, y_pred)))\n",
    "    print(\"R-square:{}. (between [0,1] and higher the better)\\n\".format(r2_score(y_true, y_pred)))\n",
    "\n",
    "    print(\"Residuals\")\n",
    "    print(\"Residual mean value: {}. (should be close to 0)\".format(residual.mean()))\n",
    "    draw_residual_plot(x_feature, residual)\n",
    "    draw_residual_hist(residual)"
   ]
  },
  {
   "cell_type": "code",
   "execution_count": 15,
   "metadata": {},
   "outputs": [],
   "source": [
    "data_train, data_test = train_test_split(filter_data,test_size=0.2, random_state=42)"
   ]
  },
  {
   "cell_type": "markdown",
   "metadata": {},
   "source": [
    "# 1. Baseline model -- Mean Value "
   ]
  },
  {
   "cell_type": "code",
   "execution_count": 39,
   "metadata": {
    "collapsed": true
   },
   "outputs": [],
   "source": [
    "X_train = data_train['sumPCII12M']\n",
    "y_train = data_train['sumPCIINext3M']\n",
    "\n",
    "average_spend_pq = X_train.mean()/4"
   ]
  },
  {
   "cell_type": "code",
   "execution_count": 40,
   "metadata": {
    "collapsed": true
   },
   "outputs": [],
   "source": [
    "preds = [average_spend_pq] * X_train.shape[0]"
   ]
  },
  {
   "cell_type": "code",
   "execution_count": 70,
   "metadata": {},
   "outputs": [
    {
     "name": "stdout",
     "output_type": "stream",
     "text": [
      "Model Performance Evaluation\n",
      "RMSE:73.08716637033916. (the lower the better)\n",
      "R-square:-0.02815031778850985. (between [0,1] and higher the better)\n",
      "\n",
      "Residuals\n",
      "Residual mean value: 12.093568484490895. (should be close to 0)\n"
     ]
    },
    {
     "data": {
      "image/png": "[encoded data removed]",
      "text/plain": [
       "<matplotlib.figure.Figure at 0x1236dfe10>"
      ]
     },
     "metadata": {},
     "output_type": "display_data"
    },
    {
     "data": {
      "image/png": "[encoded data removed]",
      "text/plain": [
       "<matplotlib.figure.Figure at 0x1233feda0>"
      ]
     },
     "metadata": {},
     "output_type": "display_data"
    }
   ],
   "source": [
    "performance_evaluation(X_train, y_train, preds)"
   ]
  },
  {
   "cell_type": "code",
   "execution_count": null,
   "metadata": {},
   "outputs": [],
   "source": []
  },
  {
   "cell_type": "code",
   "execution_count": null,
   "metadata": {},
   "outputs": [],
   "source": []
  },
  {
   "cell_type": "code",
   "execution_count": null,
   "metadata": {},
   "outputs": [],
   "source": []
  },
  {
   "cell_type": "markdown",
   "metadata": {},
   "source": [
    "Check the performance on testing data."
   ]
  },
  {
   "cell_type": "code",
   "execution_count": 53,
   "metadata": {},
   "outputs": [],
   "source": [
    "X_test = data_test['sumPCII12M']\n",
    "y_test = data_test['sumPCIINext3M']\n",
    "\n",
    "preds_test = [average_spend_pq] * X_test.shape[0]"
   ]
  },
  {
   "cell_type": "code",
   "execution_count": 71,
   "metadata": {},
   "outputs": [
    {
     "name": "stdout",
     "output_type": "stream",
     "text": [
      "Model Performance Evaluation\n",
      "RMSE:73.00093287036066. (the lower the better)\n",
      "R-square:-0.029297618915961943. (between [0,1] and higher the better)\n",
      "\n",
      "Residuals\n",
      "Residual mean value: 12.31612501991574. (should be close to 0)\n"
     ]
    },
    {
     "data": {
      "image/png": "[encoded data removed]",
      "text/plain": [
       "<matplotlib.figure.Figure at 0x123b572e8>"
      ]
     },
     "metadata": {},
     "output_type": "display_data"
    },
    {
     "data": {
      "image/png": "[encoded data removed]",
      "text/plain": [
       "<matplotlib.figure.Figure at 0x1239b65f8>"
      ]
     },
     "metadata": {},
     "output_type": "display_data"
    }
   ],
   "source": [
    "performance_evaluation(X_test, y_test, preds_test)"
   ]
  },
  {
   "cell_type": "markdown",
   "metadata": {},
   "source": [
    "# OLS with one feature -- sumPCII12M"
   ]
  },
  {
   "cell_type": "code",
   "execution_count": 72,
   "metadata": {
    "collapsed": true
   },
   "outputs": [],
   "source": [
    "X_train = data_train['sumPCII12M']\n",
    "y_train = data_train['sumPCIINext3M']"
   ]
  },
  {
   "cell_type": "code",
   "execution_count": 73,
   "metadata": {},
   "outputs": [
    {
     "data": {
      "text/html": [
       "<table class=\"simpletable\">\n",
       "<caption>OLS Regression Results</caption>\n",
       "<tr>\n",
       "  <th>Dep. Variable:</th>      <td>sumPCIINext3M</td>  <th>  R-squared:         </th> <td>   0.354</td> \n",
       "</tr>\n",
       "<tr>\n",
       "  <th>Model:</th>                   <td>OLS</td>       <th>  Adj. R-squared:    </th> <td>   0.354</td> \n",
       "</tr>\n",
       "<tr>\n",
       "  <th>Method:</th>             <td>Least Squares</td>  <th>  F-statistic:       </th> <td>   1625.</td> \n",
       "</tr>\n",
       "<tr>\n",
       "  <th>Date:</th>             <td>Wed, 10 Oct 2018</td> <th>  Prob (F-statistic):</th> <td>1.07e-283</td>\n",
       "</tr>\n",
       "<tr>\n",
       "  <th>Time:</th>                 <td>15:57:58</td>     <th>  Log-Likelihood:    </th> <td> -16248.</td> \n",
       "</tr>\n",
       "<tr>\n",
       "  <th>No. Observations:</th>      <td>  2966</td>      <th>  AIC:               </th> <td>3.250e+04</td>\n",
       "</tr>\n",
       "<tr>\n",
       "  <th>Df Residuals:</th>          <td>  2964</td>      <th>  BIC:               </th> <td>3.251e+04</td>\n",
       "</tr>\n",
       "<tr>\n",
       "  <th>Df Model:</th>              <td>     1</td>      <th>                     </th>     <td> </td>    \n",
       "</tr>\n",
       "<tr>\n",
       "  <th>Covariance Type:</th>      <td>nonrobust</td>    <th>                     </th>     <td> </td>    \n",
       "</tr>\n",
       "</table>\n",
       "<table class=\"simpletable\">\n",
       "<tr>\n",
       "       <td></td>         <th>coef</th>     <th>std err</th>      <th>t</th>      <th>P>|t|</th>  <th>[0.025</th>    <th>0.975]</th>  \n",
       "</tr>\n",
       "<tr>\n",
       "  <th>const</th>      <td>   14.2918</td> <td>    1.153</td> <td>   12.399</td> <td> 0.000</td> <td>   12.032</td> <td>   16.552</td>\n",
       "</tr>\n",
       "<tr>\n",
       "  <th>sumPCII12M</th> <td>    0.2226</td> <td>    0.006</td> <td>   40.313</td> <td> 0.000</td> <td>    0.212</td> <td>    0.233</td>\n",
       "</tr>\n",
       "</table>\n",
       "<table class=\"simpletable\">\n",
       "<tr>\n",
       "  <th>Omnibus:</th>       <td>2344.263</td> <th>  Durbin-Watson:     </th>  <td>   2.006</td> \n",
       "</tr>\n",
       "<tr>\n",
       "  <th>Prob(Omnibus):</th>  <td> 0.000</td>  <th>  Jarque-Bera (JB):  </th> <td>150609.271</td>\n",
       "</tr>\n",
       "<tr>\n",
       "  <th>Skew:</th>           <td> 3.234</td>  <th>  Prob(JB):          </th>  <td>    0.00</td> \n",
       "</tr>\n",
       "<tr>\n",
       "  <th>Kurtosis:</th>       <td>37.305</td>  <th>  Cond. No.          </th>  <td>    226.</td> \n",
       "</tr>\n",
       "</table><br/><br/>Warnings:<br/>[1] Standard Errors assume that the covariance matrix of the errors is correctly specified."
      ],
      "text/plain": [
       "<class 'statsmodels.iolib.summary.Summary'>\n",
       "\"\"\"\n",
       "                            OLS Regression Results                            \n",
       "==============================================================================\n",
       "Dep. Variable:          sumPCIINext3M   R-squared:                       0.354\n",
       "Model:                            OLS   Adj. R-squared:                  0.354\n",
       "Method:                 Least Squares   F-statistic:                     1625.\n",
       "Date:                Wed, 10 Oct 2018   Prob (F-statistic):          1.07e-283\n",
       "Time:                        15:57:58   Log-Likelihood:                -16248.\n",
       "No. Observations:                2966   AIC:                         3.250e+04\n",
       "Df Residuals:                    2964   BIC:                         3.251e+04\n",
       "Df Model:                           1                                         \n",
       "Covariance Type:            nonrobust                                         \n",
       "==============================================================================\n",
       "                 coef    std err          t      P>|t|      [0.025      0.975]\n",
       "------------------------------------------------------------------------------\n",
       "const         14.2918      1.153     12.399      0.000      12.032      16.552\n",
       "sumPCII12M     0.2226      0.006     40.313      0.000       0.212       0.233\n",
       "==============================================================================\n",
       "Omnibus:                     2344.263   Durbin-Watson:                   2.006\n",
       "Prob(Omnibus):                  0.000   Jarque-Bera (JB):           150609.271\n",
       "Skew:                           3.234   Prob(JB):                         0.00\n",
       "Kurtosis:                      37.305   Cond. No.                         226.\n",
       "==============================================================================\n",
       "\n",
       "Warnings:\n",
       "[1] Standard Errors assume that the covariance matrix of the errors is correctly specified.\n",
       "\"\"\""
      ]
     },
     "execution_count": 73,
     "metadata": {},
     "output_type": "execute_result"
    }
   ],
   "source": [
    "import statsmodels.api as sm\n",
    "\n",
    "## let's add an intercept (beta_0) to our model\n",
    "X = sm.add_constant(X_train)\n",
    "\n",
    "# Note the difference in argument order\n",
    "model = sm.OLS(y_train, X).fit()\n",
    "preds = model.predict(X) # make the predictions by the model\n",
    "\n",
    "# Print out the statistics\n",
    "model.summary()"
   ]
  },
  {
   "cell_type": "code",
   "execution_count": 76,
   "metadata": {},
   "outputs": [
    {
     "name": "stdout",
     "output_type": "stream",
     "text": [
      "Model Performance Evaluation\n",
      "RMSE:63.002924662268875. (the lower the better)\n",
      "R-square:0.23333512058444417. (between [0,1] and higher the better)\n",
      "\n",
      "Residuals\n",
      "Residual mean value: 0.17993007673549719. (should be close to 0)\n"
     ]
    },
    {
     "data": {
      "image/png": "[encoded data removed]",
      "text/plain": [
       "<matplotlib.figure.Figure at 0x1247f1f60>"
      ]
     },
     "metadata": {},
     "output_type": "display_data"
    },
    {
     "data": {
      "image/png": "[encoded data removed]",
      "text/plain": [
       "<matplotlib.figure.Figure at 0x120a589e8>"
      ]
     },
     "metadata": {},
     "output_type": "display_data"
    }
   ],
   "source": [
    "X_test = sm.add_constant(X_test)\n",
    "\n",
    "preds_test = model.predict(X_test) # make the predictions by the model\n",
    "\n",
    "performance_evaluation(X_test, y_test, preds_test)"
   ]
  },
  {
   "cell_type": "code",
   "execution_count": null,
   "metadata": {},
   "outputs": [],
   "source": []
  },
  {
   "cell_type": "code",
   "execution_count": 23,
   "metadata": {},
   "outputs": [
    {
     "data": {
      "text/plain": [
       "34.588878840866506"
      ]
     },
     "execution_count": 23,
     "metadata": {},
     "output_type": "execute_result"
    }
   ],
   "source": []
  },
  {
   "cell_type": "code",
   "execution_count": null,
   "metadata": {},
   "outputs": [],
   "source": []
  },
  {
   "cell_type": "markdown",
   "metadata": {},
   "source": [
    "# OLS with two features - sumPCII12M, numberOrdersWithCoupon12M"
   ]
  },
  {
   "cell_type": "code",
   "execution_count": 58,
   "metadata": {
    "collapsed": true
   },
   "outputs": [],
   "source": [
    "X_train = np.asarray(data_train[['sumPCII12M', 'totalSpendBeforeDiscount6M']])\n",
    "y_train = data_train['sumPCIINext3M']"
   ]
  },
  {
   "cell_type": "code",
   "execution_count": 59,
   "metadata": {},
   "outputs": [
    {
     "data": {
      "text/html": [
       "<table class=\"simpletable\">\n",
       "<caption>OLS Regression Results</caption>\n",
       "<tr>\n",
       "  <th>Dep. Variable:</th>      <td>sumPCIINext3M</td>  <th>  R-squared:         </th> <td>   0.335</td> \n",
       "</tr>\n",
       "<tr>\n",
       "  <th>Model:</th>                   <td>OLS</td>       <th>  Adj. R-squared:    </th> <td>   0.335</td> \n",
       "</tr>\n",
       "<tr>\n",
       "  <th>Method:</th>             <td>Least Squares</td>  <th>  F-statistic:       </th> <td>   935.2</td> \n",
       "</tr>\n",
       "<tr>\n",
       "  <th>Date:</th>             <td>Tue, 09 Oct 2018</td> <th>  Prob (F-statistic):</th>  <td>  0.00</td>  \n",
       "</tr>\n",
       "<tr>\n",
       "  <th>Time:</th>                 <td>21:01:05</td>     <th>  Log-Likelihood:    </th> <td> -20364.</td> \n",
       "</tr>\n",
       "<tr>\n",
       "  <th>No. Observations:</th>      <td>  3708</td>      <th>  AIC:               </th> <td>4.073e+04</td>\n",
       "</tr>\n",
       "<tr>\n",
       "  <th>Df Residuals:</th>          <td>  3705</td>      <th>  BIC:               </th> <td>4.075e+04</td>\n",
       "</tr>\n",
       "<tr>\n",
       "  <th>Df Model:</th>              <td>     2</td>      <th>                     </th>     <td> </td>    \n",
       "</tr>\n",
       "<tr>\n",
       "  <th>Covariance Type:</th>      <td>nonrobust</td>    <th>                     </th>     <td> </td>    \n",
       "</tr>\n",
       "</table>\n",
       "<table class=\"simpletable\">\n",
       "<tr>\n",
       "    <td></td>       <th>coef</th>     <th>std err</th>      <th>t</th>      <th>P>|t|</th>  <th>[0.025</th>    <th>0.975]</th>  \n",
       "</tr>\n",
       "<tr>\n",
       "  <th>const</th> <td>   12.3197</td> <td>    1.133</td> <td>   10.872</td> <td> 0.000</td> <td>   10.098</td> <td>   14.541</td>\n",
       "</tr>\n",
       "<tr>\n",
       "  <th>x1</th>    <td>    0.2125</td> <td>    0.005</td> <td>   40.864</td> <td> 0.000</td> <td>    0.202</td> <td>    0.223</td>\n",
       "</tr>\n",
       "<tr>\n",
       "  <th>x2</th>    <td>    0.0046</td> <td>    0.001</td> <td>    5.453</td> <td> 0.000</td> <td>    0.003</td> <td>    0.006</td>\n",
       "</tr>\n",
       "</table>\n",
       "<table class=\"simpletable\">\n",
       "<tr>\n",
       "  <th>Omnibus:</th>       <td>2983.601</td> <th>  Durbin-Watson:     </th>  <td>   2.024</td> \n",
       "</tr>\n",
       "<tr>\n",
       "  <th>Prob(Omnibus):</th>  <td> 0.000</td>  <th>  Jarque-Bera (JB):  </th> <td>214260.022</td>\n",
       "</tr>\n",
       "<tr>\n",
       "  <th>Skew:</th>           <td> 3.307</td>  <th>  Prob(JB):          </th>  <td>    0.00</td> \n",
       "</tr>\n",
       "<tr>\n",
       "  <th>Kurtosis:</th>       <td>39.648</td>  <th>  Cond. No.          </th>  <td>1.55e+03</td> \n",
       "</tr>\n",
       "</table><br/><br/>Warnings:<br/>[1] Standard Errors assume that the covariance matrix of the errors is correctly specified.<br/>[2] The condition number is large, 1.55e+03. This might indicate that there are<br/>strong multicollinearity or other numerical problems."
      ],
      "text/plain": [
       "<class 'statsmodels.iolib.summary.Summary'>\n",
       "\"\"\"\n",
       "                            OLS Regression Results                            \n",
       "==============================================================================\n",
       "Dep. Variable:          sumPCIINext3M   R-squared:                       0.335\n",
       "Model:                            OLS   Adj. R-squared:                  0.335\n",
       "Method:                 Least Squares   F-statistic:                     935.2\n",
       "Date:                Tue, 09 Oct 2018   Prob (F-statistic):               0.00\n",
       "Time:                        21:01:05   Log-Likelihood:                -20364.\n",
       "No. Observations:                3708   AIC:                         4.073e+04\n",
       "Df Residuals:                    3705   BIC:                         4.075e+04\n",
       "Df Model:                           2                                         \n",
       "Covariance Type:            nonrobust                                         \n",
       "==============================================================================\n",
       "                 coef    std err          t      P>|t|      [0.025      0.975]\n",
       "------------------------------------------------------------------------------\n",
       "const         12.3197      1.133     10.872      0.000      10.098      14.541\n",
       "x1             0.2125      0.005     40.864      0.000       0.202       0.223\n",
       "x2             0.0046      0.001      5.453      0.000       0.003       0.006\n",
       "==============================================================================\n",
       "Omnibus:                     2983.601   Durbin-Watson:                   2.024\n",
       "Prob(Omnibus):                  0.000   Jarque-Bera (JB):           214260.022\n",
       "Skew:                           3.307   Prob(JB):                         0.00\n",
       "Kurtosis:                      39.648   Cond. No.                     1.55e+03\n",
       "==============================================================================\n",
       "\n",
       "Warnings:\n",
       "[1] Standard Errors assume that the covariance matrix of the errors is correctly specified.\n",
       "[2] The condition number is large, 1.55e+03. This might indicate that there are\n",
       "strong multicollinearity or other numerical problems.\n",
       "\"\"\""
      ]
     },
     "execution_count": 59,
     "metadata": {},
     "output_type": "execute_result"
    }
   ],
   "source": [
    "import statsmodels.api as sm\n",
    "\n",
    "## let's add an intercept (beta_0) to our model\n",
    "X_train = sm.add_constant(X_train)\n",
    "\n",
    "# Note the difference in argument order\n",
    "model = sm.OLS(y_train, X_train).fit()\n",
    "preds = model.predict(X_train) # make the predictions by the model\n",
    "\n",
    "# Print out the statistics\n",
    "model.summary()"
   ]
  },
  {
   "cell_type": "code",
   "execution_count": 60,
   "metadata": {},
   "outputs": [
    {
     "data": {
      "image/png": "[encoded data removed]",
      "text/plain": [
       "<Figure size 432x288 with 1 Axes>"
      ]
     },
     "metadata": {
      "needs_background": "light"
     },
     "output_type": "display_data"
    }
   ],
   "source": [
    "residual = y_train - preds\n",
    "draw_residual_plot(X_train, residual)"
   ]
  },
  {
   "cell_type": "code",
   "execution_count": 61,
   "metadata": {},
   "outputs": [
    {
     "data": {
      "text/plain": [
       "58.73753566253807"
      ]
     },
     "execution_count": 61,
     "metadata": {},
     "output_type": "execute_result"
    }
   ],
   "source": [
    "rmse(y_train, preds)"
   ]
  },
  {
   "cell_type": "markdown",
   "metadata": {},
   "source": [
    "# OLS with all features"
   ]
  },
  {
   "cell_type": "code",
   "execution_count": 51,
   "metadata": {
    "collapsed": true
   },
   "outputs": [],
   "source": [
    "X_train =data_train.drop(['registrationCountry', 'gender', 'customerHash', 'sumPCIINext3M'], axis=1)\n",
    "y_train = data_train['sumPCIINext3M']"
   ]
  },
  {
   "cell_type": "code",
   "execution_count": null,
   "metadata": {
    "collapsed": true
   },
   "outputs": [],
   "source": []
  },
  {
   "cell_type": "code",
   "execution_count": 57,
   "metadata": {},
   "outputs": [
    {
     "data": {
      "text/html": [
       "<table class=\"simpletable\">\n",
       "<caption>OLS Regression Results</caption>\n",
       "<tr>\n",
       "  <th>Dep. Variable:</th>      <td>sumPCIINext3M</td>  <th>  R-squared:         </th> <td>   0.421</td> \n",
       "</tr>\n",
       "<tr>\n",
       "  <th>Model:</th>                   <td>OLS</td>       <th>  Adj. R-squared:    </th> <td>   0.406</td> \n",
       "</tr>\n",
       "<tr>\n",
       "  <th>Method:</th>             <td>Least Squares</td>  <th>  F-statistic:       </th> <td>   28.29</td> \n",
       "</tr>\n",
       "<tr>\n",
       "  <th>Date:</th>             <td>Tue, 09 Oct 2018</td> <th>  Prob (F-statistic):</th>  <td>  0.00</td>  \n",
       "</tr>\n",
       "<tr>\n",
       "  <th>Time:</th>                 <td>21:00:36</td>     <th>  Log-Likelihood:    </th> <td> -20108.</td> \n",
       "</tr>\n",
       "<tr>\n",
       "  <th>No. Observations:</th>      <td>  3708</td>      <th>  AIC:               </th> <td>4.040e+04</td>\n",
       "</tr>\n",
       "<tr>\n",
       "  <th>Df Residuals:</th>          <td>  3614</td>      <th>  BIC:               </th> <td>4.099e+04</td>\n",
       "</tr>\n",
       "<tr>\n",
       "  <th>Df Model:</th>              <td>    93</td>      <th>                     </th>     <td> </td>    \n",
       "</tr>\n",
       "<tr>\n",
       "  <th>Covariance Type:</th>      <td>nonrobust</td>    <th>                     </th>     <td> </td>    \n",
       "</tr>\n",
       "</table>\n",
       "<table class=\"simpletable\">\n",
       "<tr>\n",
       "               <td></td>                  <th>coef</th>     <th>std err</th>      <th>t</th>      <th>P>|t|</th>  <th>[0.025</th>    <th>0.975]</th>  \n",
       "</tr>\n",
       "<tr>\n",
       "  <th>const</th>                       <td>   10.4175</td> <td>    3.376</td> <td>    3.086</td> <td> 0.002</td> <td>    3.799</td> <td>   17.036</td>\n",
       "</tr>\n",
       "<tr>\n",
       "  <th>sumPCII1M</th>                   <td>   -0.0549</td> <td>    0.110</td> <td>   -0.498</td> <td> 0.618</td> <td>   -0.271</td> <td>    0.161</td>\n",
       "</tr>\n",
       "<tr>\n",
       "  <th>avgPCII1M</th>                   <td>   -0.5203</td> <td>    0.538</td> <td>   -0.967</td> <td> 0.334</td> <td>   -1.575</td> <td>    0.535</td>\n",
       "</tr>\n",
       "<tr>\n",
       "  <th>totalSpendBeforeDiscount1M</th>  <td>    0.0172</td> <td>    0.021</td> <td>    0.830</td> <td> 0.407</td> <td>   -0.023</td> <td>    0.058</td>\n",
       "</tr>\n",
       "<tr>\n",
       "  <th>totalSpendBeforeCoupon1M</th>    <td>   -0.0001</td> <td>    0.037</td> <td>   -0.003</td> <td> 0.997</td> <td>   -0.073</td> <td>    0.073</td>\n",
       "</tr>\n",
       "<tr>\n",
       "  <th>numberOrders1M</th>              <td>    2.1962</td> <td>    2.195</td> <td>    1.000</td> <td> 0.317</td> <td>   -2.108</td> <td>    6.500</td>\n",
       "</tr>\n",
       "<tr>\n",
       "  <th>numberItems1M</th>               <td>    1.1560</td> <td>    1.356</td> <td>    0.853</td> <td> 0.394</td> <td>   -1.502</td> <td>    3.814</td>\n",
       "</tr>\n",
       "<tr>\n",
       "  <th>numberReturnedItems1M</th>       <td>   -2.5083</td> <td>    1.935</td> <td>   -1.296</td> <td> 0.195</td> <td>   -6.302</td> <td>    1.286</td>\n",
       "</tr>\n",
       "<tr>\n",
       "  <th>avgNumberItems1M</th>            <td>    2.4986</td> <td>    4.706</td> <td>    0.531</td> <td> 0.596</td> <td>   -6.729</td> <td>   11.726</td>\n",
       "</tr>\n",
       "<tr>\n",
       "  <th>gmvReturnedItems1M</th>          <td>   -0.0104</td> <td>    0.049</td> <td>   -0.214</td> <td> 0.830</td> <td>   -0.106</td> <td>    0.085</td>\n",
       "</tr>\n",
       "<tr>\n",
       "  <th>gmvDiscount1M</th>               <td>    0.0173</td> <td>    0.043</td> <td>    0.408</td> <td> 0.683</td> <td>   -0.066</td> <td>    0.101</td>\n",
       "</tr>\n",
       "<tr>\n",
       "  <th>gmvWithCoupon1M</th>             <td>   -0.0023</td> <td>    0.026</td> <td>   -0.088</td> <td> 0.930</td> <td>   -0.054</td> <td>    0.049</td>\n",
       "</tr>\n",
       "<tr>\n",
       "  <th>numberOrdersWithCoupon1M</th>    <td>    0.9344</td> <td>    6.730</td> <td>    0.139</td> <td> 0.890</td> <td>  -12.260</td> <td>   14.129</td>\n",
       "</tr>\n",
       "<tr>\n",
       "  <th>sumPCII3M</th>                   <td>    0.2707</td> <td>    0.188</td> <td>    1.442</td> <td> 0.149</td> <td>   -0.097</td> <td>    0.639</td>\n",
       "</tr>\n",
       "<tr>\n",
       "  <th>avgPCII3M</th>                   <td>    0.7462</td> <td>    1.056</td> <td>    0.707</td> <td> 0.480</td> <td>   -1.324</td> <td>    2.816</td>\n",
       "</tr>\n",
       "<tr>\n",
       "  <th>totalSpendBeforeDiscount3M</th>  <td>    0.0119</td> <td>    0.022</td> <td>    0.542</td> <td> 0.588</td> <td>   -0.031</td> <td>    0.055</td>\n",
       "</tr>\n",
       "<tr>\n",
       "  <th>totalSpendBeforeCoupon3M</th>    <td>    0.0029</td> <td>    0.052</td> <td>    0.055</td> <td> 0.956</td> <td>   -0.100</td> <td>    0.105</td>\n",
       "</tr>\n",
       "<tr>\n",
       "  <th>numberOrders3M</th>              <td>    2.8507</td> <td>    3.411</td> <td>    0.836</td> <td> 0.403</td> <td>   -3.836</td> <td>    9.538</td>\n",
       "</tr>\n",
       "<tr>\n",
       "  <th>numberItems3M</th>               <td>   -1.9693</td> <td>    1.742</td> <td>   -1.130</td> <td> 0.258</td> <td>   -5.385</td> <td>    1.447</td>\n",
       "</tr>\n",
       "<tr>\n",
       "  <th>numberReturnedItems3M</th>       <td>    4.6433</td> <td>    2.492</td> <td>    1.863</td> <td> 0.063</td> <td>   -0.243</td> <td>    9.530</td>\n",
       "</tr>\n",
       "<tr>\n",
       "  <th>avgNumberItems3M</th>            <td>   -8.7224</td> <td>    5.547</td> <td>   -1.573</td> <td> 0.116</td> <td>  -19.597</td> <td>    2.152</td>\n",
       "</tr>\n",
       "<tr>\n",
       "  <th>gmvReturnedItems3M</th>          <td>   -0.0230</td> <td>    0.072</td> <td>   -0.321</td> <td> 0.748</td> <td>   -0.163</td> <td>    0.117</td>\n",
       "</tr>\n",
       "<tr>\n",
       "  <th>gmvDiscount3M</th>               <td>    0.0090</td> <td>    0.051</td> <td>    0.176</td> <td> 0.860</td> <td>   -0.091</td> <td>    0.109</td>\n",
       "</tr>\n",
       "<tr>\n",
       "  <th>gmvWithCoupon3M</th>             <td>    0.0202</td> <td>    0.045</td> <td>    0.445</td> <td> 0.656</td> <td>   -0.069</td> <td>    0.109</td>\n",
       "</tr>\n",
       "<tr>\n",
       "  <th>numberOrdersWithCoupon3M</th>    <td>  -10.0670</td> <td>   10.926</td> <td>   -0.921</td> <td> 0.357</td> <td>  -31.488</td> <td>   11.354</td>\n",
       "</tr>\n",
       "<tr>\n",
       "  <th>sumPCII6M</th>                   <td>   -0.0402</td> <td>    0.229</td> <td>   -0.175</td> <td> 0.861</td> <td>   -0.490</td> <td>    0.409</td>\n",
       "</tr>\n",
       "<tr>\n",
       "  <th>avgPCII6M</th>                   <td>    0.6030</td> <td>    0.701</td> <td>    0.860</td> <td> 0.390</td> <td>   -0.772</td> <td>    1.978</td>\n",
       "</tr>\n",
       "<tr>\n",
       "  <th>totalSpendBeforeDiscount6M</th>  <td>    0.1852</td> <td>    0.041</td> <td>    4.504</td> <td> 0.000</td> <td>    0.105</td> <td>    0.266</td>\n",
       "</tr>\n",
       "<tr>\n",
       "  <th>totalSpendBeforeCoupon6M</th>    <td>   -0.0056</td> <td>    0.075</td> <td>   -0.075</td> <td> 0.941</td> <td>   -0.152</td> <td>    0.141</td>\n",
       "</tr>\n",
       "<tr>\n",
       "  <th>numberOrders6M</th>              <td>   -6.9447</td> <td>    3.934</td> <td>   -1.765</td> <td> 0.078</td> <td>  -14.658</td> <td>    0.769</td>\n",
       "</tr>\n",
       "<tr>\n",
       "  <th>numberItems6M</th>               <td>   -2.4539</td> <td>    2.106</td> <td>   -1.165</td> <td> 0.244</td> <td>   -6.582</td> <td>    1.675</td>\n",
       "</tr>\n",
       "<tr>\n",
       "  <th>numberReturnedItems6M</th>       <td>    3.9883</td> <td>    3.101</td> <td>    1.286</td> <td> 0.198</td> <td>   -2.091</td> <td>   10.067</td>\n",
       "</tr>\n",
       "<tr>\n",
       "  <th>avgNumberItems6M</th>            <td>   -5.7552</td> <td>    7.964</td> <td>   -0.723</td> <td> 0.470</td> <td>  -21.369</td> <td>    9.858</td>\n",
       "</tr>\n",
       "<tr>\n",
       "  <th>gmvReturnedItems6M</th>          <td>   -0.1917</td> <td>    0.090</td> <td>   -2.125</td> <td> 0.034</td> <td>   -0.369</td> <td>   -0.015</td>\n",
       "</tr>\n",
       "<tr>\n",
       "  <th>gmvDiscount6M</th>               <td>    0.1908</td> <td>    0.086</td> <td>    2.215</td> <td> 0.027</td> <td>    0.022</td> <td>    0.360</td>\n",
       "</tr>\n",
       "<tr>\n",
       "  <th>gmvWithCoupon6M</th>             <td>   -0.0628</td> <td>    0.044</td> <td>   -1.422</td> <td> 0.155</td> <td>   -0.149</td> <td>    0.024</td>\n",
       "</tr>\n",
       "<tr>\n",
       "  <th>numberOrdersWithCoupon6M</th>    <td>    2.3341</td> <td>   11.928</td> <td>    0.196</td> <td> 0.845</td> <td>  -21.051</td> <td>   25.719</td>\n",
       "</tr>\n",
       "<tr>\n",
       "  <th>sumPCII12M</th>                  <td>    0.2295</td> <td>    0.292</td> <td>    0.787</td> <td> 0.431</td> <td>   -0.342</td> <td>    0.801</td>\n",
       "</tr>\n",
       "<tr>\n",
       "  <th>avgPCII12M</th>                  <td>   -1.9743</td> <td>    1.293</td> <td>   -1.527</td> <td> 0.127</td> <td>   -4.510</td> <td>    0.561</td>\n",
       "</tr>\n",
       "<tr>\n",
       "  <th>totalSpendBeforeDiscount12M</th> <td>    0.0171</td> <td>    0.107</td> <td>    0.159</td> <td> 0.873</td> <td>   -0.193</td> <td>    0.227</td>\n",
       "</tr>\n",
       "<tr>\n",
       "  <th>totalSpendBeforeCoupon12M</th>   <td>   -0.2009</td> <td>    0.135</td> <td>   -1.487</td> <td> 0.137</td> <td>   -0.466</td> <td>    0.064</td>\n",
       "</tr>\n",
       "<tr>\n",
       "  <th>numberOrders12M</th>             <td>    8.4775</td> <td>    5.602</td> <td>    1.513</td> <td> 0.130</td> <td>   -2.505</td> <td>   19.460</td>\n",
       "</tr>\n",
       "<tr>\n",
       "  <th>numberItems12M</th>              <td>    4.3186</td> <td>    2.739</td> <td>    1.577</td> <td> 0.115</td> <td>   -1.051</td> <td>    9.688</td>\n",
       "</tr>\n",
       "<tr>\n",
       "  <th>numberReturnedItems12M</th>      <td>  -13.5607</td> <td>    4.173</td> <td>   -3.250</td> <td> 0.001</td> <td>  -21.742</td> <td>   -5.380</td>\n",
       "</tr>\n",
       "<tr>\n",
       "  <th>avgNumberItems12M</th>           <td>    5.2382</td> <td>    9.933</td> <td>    0.527</td> <td> 0.598</td> <td>  -14.236</td> <td>   24.712</td>\n",
       "</tr>\n",
       "<tr>\n",
       "  <th>gmvReturnedItems12M</th>         <td>    0.2703</td> <td>    0.121</td> <td>    2.236</td> <td> 0.025</td> <td>    0.033</td> <td>    0.507</td>\n",
       "</tr>\n",
       "<tr>\n",
       "  <th>gmvDiscount12M</th>              <td>   -0.0263</td> <td>    0.134</td> <td>   -0.196</td> <td> 0.844</td> <td>   -0.289</td> <td>    0.236</td>\n",
       "</tr>\n",
       "<tr>\n",
       "  <th>gmvWithCoupon12M</th>            <td>    0.0293</td> <td>    0.066</td> <td>    0.444</td> <td> 0.657</td> <td>   -0.100</td> <td>    0.159</td>\n",
       "</tr>\n",
       "<tr>\n",
       "  <th>numberOrdersWithCoupon12M</th>   <td>   -2.8192</td> <td>   15.708</td> <td>   -0.179</td> <td> 0.858</td> <td>  -33.617</td> <td>   27.978</td>\n",
       "</tr>\n",
       "<tr>\n",
       "  <th>sumPCIIQ1</th>                   <td>   -0.1864</td> <td>    0.296</td> <td>   -0.629</td> <td> 0.529</td> <td>   -0.767</td> <td>    0.395</td>\n",
       "</tr>\n",
       "<tr>\n",
       "  <th>avgPCIIQ1</th>                   <td>    3.1147</td> <td>    1.308</td> <td>    2.382</td> <td> 0.017</td> <td>    0.551</td> <td>    5.678</td>\n",
       "</tr>\n",
       "<tr>\n",
       "  <th>totalSpendBeforeDiscountQ1</th>  <td>    0.1365</td> <td>    0.109</td> <td>    1.255</td> <td> 0.209</td> <td>   -0.077</td> <td>    0.350</td>\n",
       "</tr>\n",
       "<tr>\n",
       "  <th>totalSpendBeforeCouponQ1</th>    <td>    0.0289</td> <td>    0.136</td> <td>    0.212</td> <td> 0.832</td> <td>   -0.239</td> <td>    0.296</td>\n",
       "</tr>\n",
       "<tr>\n",
       "  <th>numberOrdersQ1</th>              <td>   -9.1713</td> <td>    5.715</td> <td>   -1.605</td> <td> 0.109</td> <td>  -20.376</td> <td>    2.033</td>\n",
       "</tr>\n",
       "<tr>\n",
       "  <th>numberItemsQ1</th>               <td>   -3.5117</td> <td>    2.861</td> <td>   -1.228</td> <td> 0.220</td> <td>   -9.120</td> <td>    2.097</td>\n",
       "</tr>\n",
       "<tr>\n",
       "  <th>numberReturnedItemsQ1</th>       <td>   12.9021</td> <td>    4.351</td> <td>    2.965</td> <td> 0.003</td> <td>    4.371</td> <td>   21.433</td>\n",
       "</tr>\n",
       "<tr>\n",
       "  <th>avgNumberItemsQ1</th>            <td>  -10.0169</td> <td>   10.244</td> <td>   -0.978</td> <td> 0.328</td> <td>  -30.102</td> <td>   10.068</td>\n",
       "</tr>\n",
       "<tr>\n",
       "  <th>gmvReturnedItemsQ1</th>          <td>   -0.2384</td> <td>    0.125</td> <td>   -1.914</td> <td> 0.056</td> <td>   -0.482</td> <td>    0.006</td>\n",
       "</tr>\n",
       "<tr>\n",
       "  <th>gmvDiscountQ1</th>               <td>   -0.1367</td> <td>    0.133</td> <td>   -1.024</td> <td> 0.306</td> <td>   -0.398</td> <td>    0.125</td>\n",
       "</tr>\n",
       "<tr>\n",
       "  <th>gmvWithCouponQ1</th>             <td>   -0.0243</td> <td>    0.068</td> <td>   -0.356</td> <td> 0.722</td> <td>   -0.158</td> <td>    0.109</td>\n",
       "</tr>\n",
       "<tr>\n",
       "  <th>numberOrdersWithCouponQ1</th>    <td>   -0.7129</td> <td>   16.232</td> <td>   -0.044</td> <td> 0.965</td> <td>  -32.537</td> <td>   31.111</td>\n",
       "</tr>\n",
       "<tr>\n",
       "  <th>sumPCIIQ2</th>                   <td>    0.0196</td> <td>    0.208</td> <td>    0.094</td> <td> 0.925</td> <td>   -0.389</td> <td>    0.428</td>\n",
       "</tr>\n",
       "<tr>\n",
       "  <th>avgPCIIQ2</th>                   <td>    2.5711</td> <td>    1.179</td> <td>    2.181</td> <td> 0.029</td> <td>    0.260</td> <td>    4.882</td>\n",
       "</tr>\n",
       "<tr>\n",
       "  <th>totalSpendBeforeDiscountQ2</th>  <td>   -0.1076</td> <td>    0.036</td> <td>   -2.988</td> <td> 0.003</td> <td>   -0.178</td> <td>   -0.037</td>\n",
       "</tr>\n",
       "<tr>\n",
       "  <th>totalSpendBeforeCouponQ2</th>    <td>    0.1266</td> <td>    0.066</td> <td>    1.917</td> <td> 0.055</td> <td>   -0.003</td> <td>    0.256</td>\n",
       "</tr>\n",
       "<tr>\n",
       "  <th>numberOrdersQ2</th>              <td>   -1.0635</td> <td>    4.486</td> <td>   -0.237</td> <td> 0.813</td> <td>   -9.858</td> <td>    7.731</td>\n",
       "</tr>\n",
       "<tr>\n",
       "  <th>numberItemsQ2</th>               <td>   -3.5510</td> <td>    2.352</td> <td>   -1.510</td> <td> 0.131</td> <td>   -8.163</td> <td>    1.061</td>\n",
       "</tr>\n",
       "<tr>\n",
       "  <th>numberReturnedItemsQ2</th>       <td>   12.7134</td> <td>    3.413</td> <td>    3.725</td> <td> 0.000</td> <td>    6.021</td> <td>   19.406</td>\n",
       "</tr>\n",
       "<tr>\n",
       "  <th>avgNumberItemsQ2</th>            <td>   -2.8550</td> <td>    7.024</td> <td>   -0.406</td> <td> 0.684</td> <td>  -16.626</td> <td>   10.916</td>\n",
       "</tr>\n",
       "<tr>\n",
       "  <th>gmvReturnedItemsQ2</th>          <td>   -0.1172</td> <td>    0.092</td> <td>   -1.278</td> <td> 0.201</td> <td>   -0.297</td> <td>    0.063</td>\n",
       "</tr>\n",
       "<tr>\n",
       "  <th>gmvDiscountQ2</th>               <td>   -0.2342</td> <td>    0.072</td> <td>   -3.257</td> <td> 0.001</td> <td>   -0.375</td> <td>   -0.093</td>\n",
       "</tr>\n",
       "<tr>\n",
       "  <th>gmvWithCouponQ2</th>             <td>    0.0383</td> <td>    0.056</td> <td>    0.685</td> <td> 0.493</td> <td>   -0.071</td> <td>    0.148</td>\n",
       "</tr>\n",
       "<tr>\n",
       "  <th>numberOrdersWithCouponQ2</th>    <td>    0.4653</td> <td>   12.727</td> <td>    0.037</td> <td> 0.971</td> <td>  -24.488</td> <td>   25.419</td>\n",
       "</tr>\n",
       "<tr>\n",
       "  <th>sumPCIIQ3</th>                   <td>    0.0244</td> <td>    0.156</td> <td>    0.156</td> <td> 0.876</td> <td>   -0.281</td> <td>    0.330</td>\n",
       "</tr>\n",
       "<tr>\n",
       "  <th>avgPCIIQ3</th>                   <td>   -0.3887</td> <td>    0.728</td> <td>   -0.534</td> <td> 0.593</td> <td>   -1.816</td> <td>    1.038</td>\n",
       "</tr>\n",
       "<tr>\n",
       "  <th>totalSpendBeforeDiscountQ3</th>  <td>   -0.1056</td> <td>    0.035</td> <td>   -3.034</td> <td> 0.002</td> <td>   -0.174</td> <td>   -0.037</td>\n",
       "</tr>\n",
       "<tr>\n",
       "  <th>totalSpendBeforeCouponQ3</th>    <td>    0.1193</td> <td>    0.058</td> <td>    2.057</td> <td> 0.040</td> <td>    0.006</td> <td>    0.233</td>\n",
       "</tr>\n",
       "<tr>\n",
       "  <th>numberOrdersQ3</th>              <td>   -5.2605</td> <td>    3.828</td> <td>   -1.374</td> <td> 0.169</td> <td>  -12.766</td> <td>    2.245</td>\n",
       "</tr>\n",
       "<tr>\n",
       "  <th>numberItemsQ3</th>               <td>   -0.7881</td> <td>    2.124</td> <td>   -0.371</td> <td> 0.711</td> <td>   -4.952</td> <td>    3.376</td>\n",
       "</tr>\n",
       "<tr>\n",
       "  <th>numberReturnedItemsQ3</th>       <td>    6.8850</td> <td>    2.937</td> <td>    2.344</td> <td> 0.019</td> <td>    1.127</td> <td>   12.643</td>\n",
       "</tr>\n",
       "<tr>\n",
       "  <th>avgNumberItemsQ3</th>            <td>    4.5817</td> <td>    6.050</td> <td>    0.757</td> <td> 0.449</td> <td>   -7.280</td> <td>   16.443</td>\n",
       "</tr>\n",
       "<tr>\n",
       "  <th>gmvReturnedItemsQ3</th>          <td>   -0.0928</td> <td>    0.075</td> <td>   -1.246</td> <td> 0.213</td> <td>   -0.239</td> <td>    0.053</td>\n",
       "</tr>\n",
       "<tr>\n",
       "  <th>gmvDiscountQ3</th>               <td>   -0.2250</td> <td>    0.070</td> <td>   -3.229</td> <td> 0.001</td> <td>   -0.362</td> <td>   -0.088</td>\n",
       "</tr>\n",
       "<tr>\n",
       "  <th>gmvWithCouponQ3</th>             <td>    0.0148</td> <td>    0.041</td> <td>    0.362</td> <td> 0.717</td> <td>   -0.065</td> <td>    0.095</td>\n",
       "</tr>\n",
       "<tr>\n",
       "  <th>numberOrdersWithCouponQ3</th>    <td>    7.1229</td> <td>    9.948</td> <td>    0.716</td> <td> 0.474</td> <td>  -12.382</td> <td>   26.627</td>\n",
       "</tr>\n",
       "<tr>\n",
       "  <th>sumPCIIQ4</th>                   <td>   -0.0293</td> <td>    0.298</td> <td>   -0.098</td> <td> 0.922</td> <td>   -0.614</td> <td>    0.555</td>\n",
       "</tr>\n",
       "<tr>\n",
       "  <th>avgPCIIQ4</th>                   <td>    2.0796</td> <td>    1.339</td> <td>    1.554</td> <td> 0.120</td> <td>   -0.545</td> <td>    4.704</td>\n",
       "</tr>\n",
       "<tr>\n",
       "  <th>totalSpendBeforeDiscountQ4</th>  <td>    0.0520</td> <td>    0.043</td> <td>    1.220</td> <td> 0.222</td> <td>   -0.032</td> <td>    0.136</td>\n",
       "</tr>\n",
       "<tr>\n",
       "  <th>totalSpendBeforeCouponQ4</th>    <td>    0.0827</td> <td>    0.094</td> <td>    0.882</td> <td> 0.378</td> <td>   -0.101</td> <td>    0.266</td>\n",
       "</tr>\n",
       "<tr>\n",
       "  <th>numberOrdersQ4</th>              <td>   -7.5029</td> <td>    5.704</td> <td>   -1.315</td> <td> 0.188</td> <td>  -18.686</td> <td>    3.680</td>\n",
       "</tr>\n",
       "<tr>\n",
       "  <th>numberItemsQ4</th>               <td>   -3.5792</td> <td>    2.810</td> <td>   -1.274</td> <td> 0.203</td> <td>   -9.088</td> <td>    1.930</td>\n",
       "</tr>\n",
       "<tr>\n",
       "  <th>numberReturnedItemsQ4</th>       <td>   12.2271</td> <td>    4.245</td> <td>    2.880</td> <td> 0.004</td> <td>    3.904</td> <td>   20.551</td>\n",
       "</tr>\n",
       "<tr>\n",
       "  <th>avgNumberItemsQ4</th>            <td>   -7.5981</td> <td>   10.197</td> <td>   -0.745</td> <td> 0.456</td> <td>  -27.591</td> <td>   12.394</td>\n",
       "</tr>\n",
       "<tr>\n",
       "  <th>gmvReturnedItemsQ4</th>          <td>   -0.2264</td> <td>    0.124</td> <td>   -1.828</td> <td> 0.068</td> <td>   -0.469</td> <td>    0.016</td>\n",
       "</tr>\n",
       "<tr>\n",
       "  <th>gmvDiscountQ4</th>               <td>   -0.0306</td> <td>    0.092</td> <td>   -0.333</td> <td> 0.739</td> <td>   -0.211</td> <td>    0.150</td>\n",
       "</tr>\n",
       "<tr>\n",
       "  <th>gmvWithCouponQ4</th>             <td>   -0.0183</td> <td>    0.068</td> <td>   -0.271</td> <td> 0.787</td> <td>   -0.151</td> <td>    0.114</td>\n",
       "</tr>\n",
       "<tr>\n",
       "  <th>numberOrdersWithCouponQ4</th>    <td>    3.8185</td> <td>   15.980</td> <td>    0.239</td> <td> 0.811</td> <td>  -27.512</td> <td>   35.149</td>\n",
       "</tr>\n",
       "<tr>\n",
       "  <th>meanDaysBetweenOrders</th>       <td>    0.0450</td> <td>    0.021</td> <td>    2.119</td> <td> 0.034</td> <td>    0.003</td> <td>    0.087</td>\n",
       "</tr>\n",
       "<tr>\n",
       "  <th>daysSinceLastOrder</th>          <td>    0.0340</td> <td>    0.015</td> <td>    2.309</td> <td> 0.021</td> <td>    0.005</td> <td>    0.063</td>\n",
       "</tr>\n",
       "<tr>\n",
       "  <th>daysSinceRegistration</th>       <td> 8.592e-06</td> <td>    0.001</td> <td>    0.007</td> <td> 0.995</td> <td>   -0.003</td> <td>    0.003</td>\n",
       "</tr>\n",
       "<tr>\n",
       "  <th>age</th>                         <td>    0.0624</td> <td>    0.053</td> <td>    1.175</td> <td> 0.240</td> <td>   -0.042</td> <td>    0.166</td>\n",
       "</tr>\n",
       "</table>\n",
       "<table class=\"simpletable\">\n",
       "<tr>\n",
       "  <th>Omnibus:</th>       <td>2219.611</td> <th>  Durbin-Watson:     </th> <td>   1.990</td> \n",
       "</tr>\n",
       "<tr>\n",
       "  <th>Prob(Omnibus):</th>  <td> 0.000</td>  <th>  Jarque-Bera (JB):  </th> <td>68356.933</td>\n",
       "</tr>\n",
       "<tr>\n",
       "  <th>Skew:</th>           <td> 2.315</td>  <th>  Prob(JB):          </th> <td>    0.00</td> \n",
       "</tr>\n",
       "<tr>\n",
       "  <th>Kurtosis:</th>       <td>23.518</td>  <th>  Cond. No.          </th> <td>1.31e+16</td> \n",
       "</tr>\n",
       "</table><br/><br/>Warnings:<br/>[1] Standard Errors assume that the covariance matrix of the errors is correctly specified.<br/>[2] The smallest eigenvalue is 3.93e-22. This might indicate that there are<br/>strong multicollinearity problems or that the design matrix is singular."
      ],
      "text/plain": [
       "<class 'statsmodels.iolib.summary.Summary'>\n",
       "\"\"\"\n",
       "                            OLS Regression Results                            \n",
       "==============================================================================\n",
       "Dep. Variable:          sumPCIINext3M   R-squared:                       0.421\n",
       "Model:                            OLS   Adj. R-squared:                  0.406\n",
       "Method:                 Least Squares   F-statistic:                     28.29\n",
       "Date:                Tue, 09 Oct 2018   Prob (F-statistic):               0.00\n",
       "Time:                        21:00:36   Log-Likelihood:                -20108.\n",
       "No. Observations:                3708   AIC:                         4.040e+04\n",
       "Df Residuals:                    3614   BIC:                         4.099e+04\n",
       "Df Model:                          93                                         \n",
       "Covariance Type:            nonrobust                                         \n",
       "===============================================================================================\n",
       "                                  coef    std err          t      P>|t|      [0.025      0.975]\n",
       "-----------------------------------------------------------------------------------------------\n",
       "const                          10.4175      3.376      3.086      0.002       3.799      17.036\n",
       "sumPCII1M                      -0.0549      0.110     -0.498      0.618      -0.271       0.161\n",
       "avgPCII1M                      -0.5203      0.538     -0.967      0.334      -1.575       0.535\n",
       "totalSpendBeforeDiscount1M      0.0172      0.021      0.830      0.407      -0.023       0.058\n",
       "totalSpendBeforeCoupon1M       -0.0001      0.037     -0.003      0.997      -0.073       0.073\n",
       "numberOrders1M                  2.1962      2.195      1.000      0.317      -2.108       6.500\n",
       "numberItems1M                   1.1560      1.356      0.853      0.394      -1.502       3.814\n",
       "numberReturnedItems1M          -2.5083      1.935     -1.296      0.195      -6.302       1.286\n",
       "avgNumberItems1M                2.4986      4.706      0.531      0.596      -6.729      11.726\n",
       "gmvReturnedItems1M             -0.0104      0.049     -0.214      0.830      -0.106       0.085\n",
       "gmvDiscount1M                   0.0173      0.043      0.408      0.683      -0.066       0.101\n",
       "gmvWithCoupon1M                -0.0023      0.026     -0.088      0.930      -0.054       0.049\n",
       "numberOrdersWithCoupon1M        0.9344      6.730      0.139      0.890     -12.260      14.129\n",
       "sumPCII3M                       0.2707      0.188      1.442      0.149      -0.097       0.639\n",
       "avgPCII3M                       0.7462      1.056      0.707      0.480      -1.324       2.816\n",
       "totalSpendBeforeDiscount3M      0.0119      0.022      0.542      0.588      -0.031       0.055\n",
       "totalSpendBeforeCoupon3M        0.0029      0.052      0.055      0.956      -0.100       0.105\n",
       "numberOrders3M                  2.8507      3.411      0.836      0.403      -3.836       9.538\n",
       "numberItems3M                  -1.9693      1.742     -1.130      0.258      -5.385       1.447\n",
       "numberReturnedItems3M           4.6433      2.492      1.863      0.063      -0.243       9.530\n",
       "avgNumberItems3M               -8.7224      5.547     -1.573      0.116     -19.597       2.152\n",
       "gmvReturnedItems3M             -0.0230      0.072     -0.321      0.748      -0.163       0.117\n",
       "gmvDiscount3M                   0.0090      0.051      0.176      0.860      -0.091       0.109\n",
       "gmvWithCoupon3M                 0.0202      0.045      0.445      0.656      -0.069       0.109\n",
       "numberOrdersWithCoupon3M      -10.0670     10.926     -0.921      0.357     -31.488      11.354\n",
       "sumPCII6M                      -0.0402      0.229     -0.175      0.861      -0.490       0.409\n",
       "avgPCII6M                       0.6030      0.701      0.860      0.390      -0.772       1.978\n",
       "totalSpendBeforeDiscount6M      0.1852      0.041      4.504      0.000       0.105       0.266\n",
       "totalSpendBeforeCoupon6M       -0.0056      0.075     -0.075      0.941      -0.152       0.141\n",
       "numberOrders6M                 -6.9447      3.934     -1.765      0.078     -14.658       0.769\n",
       "numberItems6M                  -2.4539      2.106     -1.165      0.244      -6.582       1.675\n",
       "numberReturnedItems6M           3.9883      3.101      1.286      0.198      -2.091      10.067\n",
       "avgNumberItems6M               -5.7552      7.964     -0.723      0.470     -21.369       9.858\n",
       "gmvReturnedItems6M             -0.1917      0.090     -2.125      0.034      -0.369      -0.015\n",
       "gmvDiscount6M                   0.1908      0.086      2.215      0.027       0.022       0.360\n",
       "gmvWithCoupon6M                -0.0628      0.044     -1.422      0.155      -0.149       0.024\n",
       "numberOrdersWithCoupon6M        2.3341     11.928      0.196      0.845     -21.051      25.719\n",
       "sumPCII12M                      0.2295      0.292      0.787      0.431      -0.342       0.801\n",
       "avgPCII12M                     -1.9743      1.293     -1.527      0.127      -4.510       0.561\n",
       "totalSpendBeforeDiscount12M     0.0171      0.107      0.159      0.873      -0.193       0.227\n",
       "totalSpendBeforeCoupon12M      -0.2009      0.135     -1.487      0.137      -0.466       0.064\n",
       "numberOrders12M                 8.4775      5.602      1.513      0.130      -2.505      19.460\n",
       "numberItems12M                  4.3186      2.739      1.577      0.115      -1.051       9.688\n",
       "numberReturnedItems12M        -13.5607      4.173     -3.250      0.001     -21.742      -5.380\n",
       "avgNumberItems12M               5.2382      9.933      0.527      0.598     -14.236      24.712\n",
       "gmvReturnedItems12M             0.2703      0.121      2.236      0.025       0.033       0.507\n",
       "gmvDiscount12M                 -0.0263      0.134     -0.196      0.844      -0.289       0.236\n",
       "gmvWithCoupon12M                0.0293      0.066      0.444      0.657      -0.100       0.159\n",
       "numberOrdersWithCoupon12M      -2.8192     15.708     -0.179      0.858     -33.617      27.978\n",
       "sumPCIIQ1                      -0.1864      0.296     -0.629      0.529      -0.767       0.395\n",
       "avgPCIIQ1                       3.1147      1.308      2.382      0.017       0.551       5.678\n",
       "totalSpendBeforeDiscountQ1      0.1365      0.109      1.255      0.209      -0.077       0.350\n",
       "totalSpendBeforeCouponQ1        0.0289      0.136      0.212      0.832      -0.239       0.296\n",
       "numberOrdersQ1                 -9.1713      5.715     -1.605      0.109     -20.376       2.033\n",
       "numberItemsQ1                  -3.5117      2.861     -1.228      0.220      -9.120       2.097\n",
       "numberReturnedItemsQ1          12.9021      4.351      2.965      0.003       4.371      21.433\n",
       "avgNumberItemsQ1              -10.0169     10.244     -0.978      0.328     -30.102      10.068\n",
       "gmvReturnedItemsQ1             -0.2384      0.125     -1.914      0.056      -0.482       0.006\n",
       "gmvDiscountQ1                  -0.1367      0.133     -1.024      0.306      -0.398       0.125\n",
       "gmvWithCouponQ1                -0.0243      0.068     -0.356      0.722      -0.158       0.109\n",
       "numberOrdersWithCouponQ1       -0.7129     16.232     -0.044      0.965     -32.537      31.111\n",
       "sumPCIIQ2                       0.0196      0.208      0.094      0.925      -0.389       0.428\n",
       "avgPCIIQ2                       2.5711      1.179      2.181      0.029       0.260       4.882\n",
       "totalSpendBeforeDiscountQ2     -0.1076      0.036     -2.988      0.003      -0.178      -0.037\n",
       "totalSpendBeforeCouponQ2        0.1266      0.066      1.917      0.055      -0.003       0.256\n",
       "numberOrdersQ2                 -1.0635      4.486     -0.237      0.813      -9.858       7.731\n",
       "numberItemsQ2                  -3.5510      2.352     -1.510      0.131      -8.163       1.061\n",
       "numberReturnedItemsQ2          12.7134      3.413      3.725      0.000       6.021      19.406\n",
       "avgNumberItemsQ2               -2.8550      7.024     -0.406      0.684     -16.626      10.916\n",
       "gmvReturnedItemsQ2             -0.1172      0.092     -1.278      0.201      -0.297       0.063\n",
       "gmvDiscountQ2                  -0.2342      0.072     -3.257      0.001      -0.375      -0.093\n",
       "gmvWithCouponQ2                 0.0383      0.056      0.685      0.493      -0.071       0.148\n",
       "numberOrdersWithCouponQ2        0.4653     12.727      0.037      0.971     -24.488      25.419\n",
       "sumPCIIQ3                       0.0244      0.156      0.156      0.876      -0.281       0.330\n",
       "avgPCIIQ3                      -0.3887      0.728     -0.534      0.593      -1.816       1.038\n",
       "totalSpendBeforeDiscountQ3     -0.1056      0.035     -3.034      0.002      -0.174      -0.037\n",
       "totalSpendBeforeCouponQ3        0.1193      0.058      2.057      0.040       0.006       0.233\n",
       "numberOrdersQ3                 -5.2605      3.828     -1.374      0.169     -12.766       2.245\n",
       "numberItemsQ3                  -0.7881      2.124     -0.371      0.711      -4.952       3.376\n",
       "numberReturnedItemsQ3           6.8850      2.937      2.344      0.019       1.127      12.643\n",
       "avgNumberItemsQ3                4.5817      6.050      0.757      0.449      -7.280      16.443\n",
       "gmvReturnedItemsQ3             -0.0928      0.075     -1.246      0.213      -0.239       0.053\n",
       "gmvDiscountQ3                  -0.2250      0.070     -3.229      0.001      -0.362      -0.088\n",
       "gmvWithCouponQ3                 0.0148      0.041      0.362      0.717      -0.065       0.095\n",
       "numberOrdersWithCouponQ3        7.1229      9.948      0.716      0.474     -12.382      26.627\n",
       "sumPCIIQ4                      -0.0293      0.298     -0.098      0.922      -0.614       0.555\n",
       "avgPCIIQ4                       2.0796      1.339      1.554      0.120      -0.545       4.704\n",
       "totalSpendBeforeDiscountQ4      0.0520      0.043      1.220      0.222      -0.032       0.136\n",
       "totalSpendBeforeCouponQ4        0.0827      0.094      0.882      0.378      -0.101       0.266\n",
       "numberOrdersQ4                 -7.5029      5.704     -1.315      0.188     -18.686       3.680\n",
       "numberItemsQ4                  -3.5792      2.810     -1.274      0.203      -9.088       1.930\n",
       "numberReturnedItemsQ4          12.2271      4.245      2.880      0.004       3.904      20.551\n",
       "avgNumberItemsQ4               -7.5981     10.197     -0.745      0.456     -27.591      12.394\n",
       "gmvReturnedItemsQ4             -0.2264      0.124     -1.828      0.068      -0.469       0.016\n",
       "gmvDiscountQ4                  -0.0306      0.092     -0.333      0.739      -0.211       0.150\n",
       "gmvWithCouponQ4                -0.0183      0.068     -0.271      0.787      -0.151       0.114\n",
       "numberOrdersWithCouponQ4        3.8185     15.980      0.239      0.811     -27.512      35.149\n",
       "meanDaysBetweenOrders           0.0450      0.021      2.119      0.034       0.003       0.087\n",
       "daysSinceLastOrder              0.0340      0.015      2.309      0.021       0.005       0.063\n",
       "daysSinceRegistration        8.592e-06      0.001      0.007      0.995      -0.003       0.003\n",
       "age                             0.0624      0.053      1.175      0.240      -0.042       0.166\n",
       "==============================================================================\n",
       "Omnibus:                     2219.611   Durbin-Watson:                   1.990\n",
       "Prob(Omnibus):                  0.000   Jarque-Bera (JB):            68356.933\n",
       "Skew:                           2.315   Prob(JB):                         0.00\n",
       "Kurtosis:                      23.518   Cond. No.                     1.31e+16\n",
       "==============================================================================\n",
       "\n",
       "Warnings:\n",
       "[1] Standard Errors assume that the covariance matrix of the errors is correctly specified.\n",
       "[2] The smallest eigenvalue is 3.93e-22. This might indicate that there are\n",
       "strong multicollinearity problems or that the design matrix is singular.\n",
       "\"\"\""
      ]
     },
     "execution_count": 57,
     "metadata": {},
     "output_type": "execute_result"
    }
   ],
   "source": [
    "import statsmodels.api as sm\n",
    "\n",
    "## let's add an intercept (beta_0) to our model\n",
    "X_train = sm.add_constant(X_train)\n",
    "\n",
    "# Note the difference in argument order\n",
    "model = sm.OLS(y_train, X_train).fit()\n",
    "preds = model.predict(X_train) # make the predictions by the model\n",
    "\n",
    "# Print out the statistics\n",
    "model.summary()"
   ]
  },
  {
   "cell_type": "code",
   "execution_count": 54,
   "metadata": {},
   "outputs": [
    {
     "data": {
      "image/png": "[encoded data removed]",
      "text/plain": [
       "<Figure size 432x288 with 1 Axes>"
      ]
     },
     "metadata": {
      "needs_background": "light"
     },
     "output_type": "display_data"
    }
   ],
   "source": [
    "residual = y_train - preds\n",
    "draw_residual_plot(X_train, residual)"
   ]
  },
  {
   "cell_type": "code",
   "execution_count": 55,
   "metadata": {},
   "outputs": [
    {
     "data": {
      "image/png": "[encoded data removed]",
      "text/plain": [
       "<Figure size 432x288 with 1 Axes>"
      ]
     },
     "metadata": {
      "needs_background": "light"
     },
     "output_type": "display_data"
    }
   ],
   "source": [
    "draw_residual_hist(residual)"
   ]
  },
  {
   "cell_type": "code",
   "execution_count": 56,
   "metadata": {},
   "outputs": [
    {
     "data": {
      "text/plain": [
       "54.81538845517702"
      ]
     },
     "execution_count": 56,
     "metadata": {},
     "output_type": "execute_result"
    }
   ],
   "source": [
    "rmse(y_train, preds)"
   ]
  },
  {
   "cell_type": "markdown",
   "metadata": {},
   "source": [
    "# Random Forest -- random try"
   ]
  },
  {
   "cell_type": "code",
   "execution_count": 62,
   "metadata": {
    "collapsed": true
   },
   "outputs": [],
   "source": [
    "X_train =data_train.drop(['registrationCountry', 'gender', 'customerHash', 'sumPCIINext3M'], axis=1)\n",
    "y_train = data_train['sumPCIINext3M']"
   ]
  },
  {
   "cell_type": "code",
   "execution_count": 71,
   "metadata": {
    "collapsed": true
   },
   "outputs": [],
   "source": [
    "\n",
    "regr_rf = RandomForestRegressor(n_estimators=200, max_depth=20,\n",
    "                                random_state=2)\n",
    "regr_rf.fit(X_train, y_train)\n",
    "\n",
    "# Predict on new data\n",
    "preds = regr_rf.predict(X_train)"
   ]
  },
  {
   "cell_type": "code",
   "execution_count": 68,
   "metadata": {},
   "outputs": [
    {
     "data": {
      "image/png": "[encoded data removed]",
      "text/plain": [
       "<Figure size 432x288 with 1 Axes>"
      ]
     },
     "metadata": {
      "needs_background": "light"
     },
     "output_type": "display_data"
    }
   ],
   "source": [
    "residual = y_train - preds\n",
    "draw_residual_plot(X_train, residual)"
   ]
  },
  {
   "cell_type": "code",
   "execution_count": 72,
   "metadata": {},
   "outputs": [
    {
     "data": {
      "text/plain": [
       "27.559636335006918"
      ]
     },
     "execution_count": 72,
     "metadata": {},
     "output_type": "execute_result"
    }
   ],
   "source": [
    "rmse(y_train, preds)"
   ]
  },
  {
   "cell_type": "code",
   "execution_count": 73,
   "metadata": {},
   "outputs": [
    {
     "data": {
      "text/plain": [
       "31.814195957451545"
      ]
     },
     "execution_count": 73,
     "metadata": {},
     "output_type": "execute_result"
    }
   ],
   "source": [
    "calculate_std_error(residual)"
   ]
  },
  {
   "cell_type": "markdown",
   "metadata": {
    "collapsed": true
   },
   "source": [
    "# Random forest -- parameter tunning"
   ]
  },
  {
   "cell_type": "code",
   "execution_count": 22,
   "metadata": {},
   "outputs": [],
   "source": [
    "X_train =data_train.drop(['registrationCountry', 'gender', 'customerHash', 'sumPCIINext3M'], axis=1)\n",
    "y_train = data_train['sumPCIINext3M']"
   ]
  },
  {
   "cell_type": "code",
   "execution_count": 17,
   "metadata": {},
   "outputs": [
    {
     "name": "stdout",
     "output_type": "stream",
     "text": [
      "{'n_estimators': [200, 400, 600, 800, 1000, 1200, 1400, 1600, 1800, 2000], 'max_features': ['auto', 'sqrt'], 'max_depth': [10, 20, 30, 40, 50, 60, 70, 80, 90, 100, 110, None], 'min_samples_split': [2, 5, 10], 'min_samples_leaf': [1, 2, 4], 'bootstrap': [True, False]}\n"
     ]
    }
   ],
   "source": [
    "from sklearn.model_selection import RandomizedSearchCV\n",
    "# Number of trees in random forest\n",
    "n_estimators = [int(x) for x in np.linspace(start = 20, stop = 200, num = 10)]\n",
    "# Number of features to consider at every split\n",
    "max_features = ['auto', 'sqrt']\n",
    "# Maximum number of levels in tree\n",
    "max_depth = [int(x) for x in np.linspace(10, 110, num = 11)]\n",
    "max_depth.append(None)\n",
    "# Minimum number of samples required to split a node\n",
    "min_samples_split = [2, 5, 10]\n",
    "# Minimum number of samples required at each leaf node\n",
    "min_samples_leaf = [1, 2, 4]\n",
    "# Method of selecting samples for training each tree\n",
    "bootstrap = [True, False]\n",
    "# Create the random grid\n",
    "random_grid = {'n_estimators': n_estimators,\n",
    "               'max_features': max_features,\n",
    "               'max_depth': max_depth,\n",
    "               'min_samples_split': min_samples_split,\n",
    "               'min_samples_leaf': min_samples_leaf,\n",
    "               'bootstrap': bootstrap}\n",
    "print(random_grid)"
   ]
  },
  {
   "cell_type": "code",
   "execution_count": 23,
   "metadata": {},
   "outputs": [
    {
     "name": "stdout",
     "output_type": "stream",
     "text": [
      "Fitting 3 folds for each of 100 candidates, totalling 300 fits\n"
     ]
    },
    {
     "name": "stderr",
     "output_type": "stream",
     "text": [
      "[Parallel(n_jobs=-1)]: Using backend LokyBackend with 4 concurrent workers.\n",
      "[Parallel(n_jobs=-1)]: Done  33 tasks      | elapsed: 10.5min\n",
      "[Parallel(n_jobs=-1)]: Done 154 tasks      | elapsed: 48.5min\n",
      "[Parallel(n_jobs=-1)]: Done 300 out of 300 | elapsed: 98.3min finished\n"
     ]
    },
    {
     "data": {
      "text/plain": [
       "RandomizedSearchCV(cv=3, error_score='raise-deprecating',\n",
       "          estimator=RandomForestRegressor(bootstrap=True, criterion='mse', max_depth=None,\n",
       "           max_features='auto', max_leaf_nodes=None,\n",
       "           min_impurity_decrease=0.0, min_impurity_split=None,\n",
       "           min_samples_leaf=1, min_samples_split=2,\n",
       "           min_weight_fraction_leaf=0.0, n_estimators='warn', n_jobs=None,\n",
       "           oob_score=False, random_state=None, verbose=0, warm_start=False),\n",
       "          fit_params=None, iid='warn', n_iter=100, n_jobs=-1,\n",
       "          param_distributions={'n_estimators': [200, 400, 600, 800, 1000, 1200, 1400, 1600, 1800, 2000], 'max_features': ['auto', 'sqrt'], 'max_depth': [10, 20, 30, 40, 50, 60, 70, 80, 90, 100, 110, None], 'min_samples_split': [2, 5, 10], 'min_samples_leaf': [1, 2, 4], 'bootstrap': [True, False]},\n",
       "          pre_dispatch='2*n_jobs', random_state=42, refit=True,\n",
       "          return_train_score='warn', scoring=None, verbose=2)"
      ]
     },
     "execution_count": 23,
     "metadata": {},
     "output_type": "execute_result"
    }
   ],
   "source": [
    "# Use the random grid to search for best hyperparameters\n",
    "# First create the base model to tune\n",
    "rf = RandomForestRegressor()\n",
    "# Random search of parameters, using 3 fold cross validation, \n",
    "# search across 100 different combinations, and use all available cores\n",
    "rf_random = RandomizedSearchCV(estimator = rf, param_distributions = random_grid, n_iter = 100, cv = 3, verbose=2, random_state=42, n_jobs = -1)\n",
    "# Fit the random search model\n",
    "rf_random.fit(X_train, y_train)"
   ]
  },
  {
   "cell_type": "code",
   "execution_count": 24,
   "metadata": {},
   "outputs": [
    {
     "data": {
      "text/plain": [
       "{'n_estimators': 1600,\n",
       " 'min_samples_split': 5,\n",
       " 'min_samples_leaf': 1,\n",
       " 'max_features': 'auto',\n",
       " 'max_depth': 10,\n",
       " 'bootstrap': True}"
      ]
     },
     "execution_count": 24,
     "metadata": {},
     "output_type": "execute_result"
    }
   ],
   "source": [
    "rf_random.best_params_"
   ]
  },
  {
   "cell_type": "code",
   "execution_count": 25,
   "metadata": {},
   "outputs": [],
   "source": [
    "best_rf = rf_random.best_estimator_\n",
    "\n",
    "preds = best_rf.predict(X_train)"
   ]
  },
  {
   "cell_type": "code",
   "execution_count": 27,
   "metadata": {},
   "outputs": [
    {
     "name": "stdout",
     "output_type": "stream",
     "text": [
      "Model Performance Evaluation\n",
      "RMSE:39.0203017069988. (the lower the better)\n",
      "R-square:0.7069406301334897. (between [0,1] and higher the better)\n",
      "\n",
      "Residuals\n",
      "Residual mean value: 0.07300793804170881. (should be close to 0)\n"
     ]
    },
    {
     "data": {
      "image/png": "[encoded data removed]",
      "text/plain": [
       "<Figure size 432x288 with 1 Axes>"
      ]
     },
     "metadata": {
      "needs_background": "light"
     },
     "output_type": "display_data"
    },
    {
     "name": "stderr",
     "output_type": "stream",
     "text": [
      "/Users/zhenxing/Envs/py3/lib/python3.6/site-packages/matplotlib/axes/_axes.py:6499: MatplotlibDeprecationWarning: \n",
      "The 'normed' kwarg was deprecated in Matplotlib 2.1 and will be removed in 3.1. Use 'density' instead.\n",
      "  alternative=\"'density'\", removal=\"3.1\")\n"
     ]
    },
    {
     "data": {
      "image/png": "[encoded data removed]",
      "text/plain": [
       "<Figure size 432x288 with 1 Axes>"
      ]
     },
     "metadata": {
      "needs_background": "light"
     },
     "output_type": "display_data"
    }
   ],
   "source": [
    "performance_evaluation(X_train['sumPCII12M'], y_train, preds)"
   ]
  },
  {
   "cell_type": "code",
   "execution_count": 28,
   "metadata": {},
   "outputs": [],
   "source": [
    "X_test =data_test.drop(['registrationCountry', 'gender', 'customerHash', 'sumPCIINext3M'], axis=1)\n",
    "y_test = data_test['sumPCIINext3M']"
   ]
  },
  {
   "cell_type": "code",
   "execution_count": 30,
   "metadata": {},
   "outputs": [
    {
     "name": "stdout",
     "output_type": "stream",
     "text": [
      "Model Performance Evaluation\n",
      "RMSE:63.73222851316662. (the lower the better)\n",
      "R-square:0.21548300257532327. (between [0,1] and higher the better)\n",
      "\n",
      "Residuals\n",
      "Residual mean value: 0.48577386245744963. (should be close to 0)\n"
     ]
    },
    {
     "data": {
      "image/png": "[encoded data removed]",
      "text/plain": [
       "<Figure size 432x288 with 1 Axes>"
      ]
     },
     "metadata": {
      "needs_background": "light"
     },
     "output_type": "display_data"
    },
    {
     "name": "stderr",
     "output_type": "stream",
     "text": [
      "/Users/zhenxing/Envs/py3/lib/python3.6/site-packages/matplotlib/axes/_axes.py:6499: MatplotlibDeprecationWarning: \n",
      "The 'normed' kwarg was deprecated in Matplotlib 2.1 and will be removed in 3.1. Use 'density' instead.\n",
      "  alternative=\"'density'\", removal=\"3.1\")\n"
     ]
    },
    {
     "data": {
      "image/png": "[encoded data removed]",
      "text/plain": [
       "<Figure size 432x288 with 1 Axes>"
      ]
     },
     "metadata": {
      "needs_background": "light"
     },
     "output_type": "display_data"
    }
   ],
   "source": [
    "preds_test = best_rf.predict(X_test)\n",
    "performance_evaluation(X_test['sumPCII12M'], y_test, preds_test)"
   ]
  },
  {
   "cell_type": "code",
   "execution_count": null,
   "metadata": {},
   "outputs": [],
   "source": []
  }
 ],
 "metadata": {
  "kernelspec": {
   "display_name": "Python 3",
   "language": "python",
   "name": "python3"
  },
  "language_info": {
   "codemirror_mode": {
    "name": "ipython",
    "version": 3
   },
   "file_extension": ".py",
   "mimetype": "text/x-python",
   "name": "python",
   "nbconvert_exporter": "python",
   "pygments_lexer": "ipython3",
   "version": "3.6.5"
  }
 },
 "nbformat": 4,
 "nbformat_minor": 1
}
